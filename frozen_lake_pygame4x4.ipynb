{
 "cells": [
  {
   "cell_type": "code",
   "execution_count": 1,
   "metadata": {},
   "outputs": [],
   "source": [
    "# Imports\n",
    "import gym\n",
    "import numpy as np\n",
    "import time\n",
    "from gym.envs.registration import register\n",
    "from IPython.display import clear_output"
   ]
  },
  {
   "cell_type": "code",
   "execution_count": 2,
   "metadata": {},
   "outputs": [
    {
     "name": "stdout",
     "output_type": "stream",
     "text": [
      "Discrete(16)\n",
      "Discrete(4)\n"
     ]
    }
   ],
   "source": [
    "env_name = \"FrozenLakeNoSlip-v0\"\n",
    "custom_map = [\"SFFF\", \n",
    "              \"FHFH\", \n",
    "              \"FFFH\", \n",
    "              \"HFFG\"]\n",
    "\n",
    "try:\n",
    "    register(\n",
    "        id='FrozenLakeNoSlip-v0',\n",
    "        entry_point='gym.envs.toy_text:FrozenLakeEnv',\n",
    "        kwargs={'is_slippery':False},\n",
    "        max_episode_steps=100,\n",
    "        reward_threshold=0.78,\n",
    "    )\n",
    "except:\n",
    "    pass\n",
    "\n",
    "env = gym.make(env_name, desc = custom_map)\n",
    "print(env.observation_space)\n",
    "print(env.action_space)"
   ]
  },
  {
   "cell_type": "code",
   "execution_count": 3,
   "metadata": {},
   "outputs": [
    {
     "name": "stdout",
     "output_type": "stream",
     "text": [
      "pygame 2.1.2 (SDL 2.0.18, Python 3.9.2)\n",
      "Hello from the pygame community. https://www.pygame.org/contribute.html\n"
     ]
    }
   ],
   "source": [
    "import pygame, sys\n",
    "\n",
    "SCREEN_WIDTH = 480\n",
    "SCREEN_HEIGHT = 480\n",
    "\n",
    "NUM_BLOCKS_WIDE = 4\n",
    "NUM_BLOCKS_HIGH = 4\n",
    "BLOCK_HEIGHT = round(SCREEN_HEIGHT/NUM_BLOCKS_HIGH)\n",
    "BLOCK_WIDTH = round(SCREEN_WIDTH/NUM_BLOCKS_WIDE)\n",
    "\n",
    "BLACK = (0, 0, 0)\n",
    "START = (153, 184, 152) # color is white\n",
    "GOAL = (0,201,87) # color is green\n",
    "HOLE = (139,105,105) # color is brown\n",
    "FROZEN = (24,116,205) # color is blue\n",
    "PINK= (255,20,147) # color is pink\n",
    "\n",
    "TITLE = \"4x4 Forzen Lake\"\n",
    "\n",
    "def return_coordinates(state):\n",
    "    count = 0\n",
    "    matrix = []\n",
    "    \n",
    "    for _ in range(len(custom_map)):\n",
    "        row = []\n",
    "        for _ in range(len(custom_map[0])):\n",
    "            row.append(count)\n",
    "            count+=1\n",
    "        matrix.append(row)\n",
    "    \n",
    "    for i in range(len(custom_map)):\n",
    "        for j in range(len(custom_map[0])):\n",
    "            if matrix[i][j] == state:\n",
    "                pos = (i, j)\n",
    "    \n",
    "    return pos"
   ]
  },
  {
   "cell_type": "code",
   "execution_count": 4,
   "metadata": {},
   "outputs": [],
   "source": [
    "def get_tile_color(tile):\n",
    "    if tile == \"S\":\n",
    "        color = START\n",
    "    elif tile == \"G\":\n",
    "        color = GOAL\n",
    "    elif tile == \"H\":\n",
    "        color = HOLE\n",
    "    elif tile == \"F\":\n",
    "        color = FROZEN\n",
    "    else:\n",
    "        color = PINK\n",
    "    return color"
   ]
  },
  {
   "cell_type": "code",
   "execution_count": 5,
   "metadata": {},
   "outputs": [],
   "source": [
    "def draw_map(surface, map_tiles):\n",
    "    for j, tile in enumerate(map_tiles):\n",
    "        for i, tile_contents in enumerate(tile):\n",
    "            myrect = pygame.Rect(i * BLOCK_WIDTH, j * BLOCK_HEIGHT, BLOCK_WIDTH, BLOCK_HEIGHT)\n",
    "            pygame.draw.rect(surface, get_tile_color(tile_contents), myrect)\n",
    "\n",
    "def draw_grid(surface):\n",
    "    for i in range(NUM_BLOCKS_WIDE):\n",
    "        new_height = round(i * BLOCK_HEIGHT)\n",
    "        new_width = round(i * BLOCK_WIDTH)\n",
    "        pygame.draw.line(surface, BLACK, (0, new_height), (SCREEN_WIDTH, new_height), 2)\n",
    "        pygame.draw.line(surface, BLACK, (new_width, 0), (new_width, SCREEN_HEIGHT), 2)\n"
   ]
  },
  {
   "cell_type": "code",
   "execution_count": 6,
   "metadata": {},
   "outputs": [],
   "source": [
    "def initialize_game():\n",
    "    pygame.init()\n",
    "    surface = pygame.display.set_mode((SCREEN_WIDTH, SCREEN_HEIGHT))\n",
    "    pygame.display.set_caption(TITLE)\n",
    "    surface.fill(BLACK)\n",
    "    return surface\n",
    "\n",
    "def read_map(state_pos):\n",
    "    \n",
    "    world_map = custom_map      \n",
    "    world_map = []\n",
    "    for row in custom_map:\n",
    "        world_map.append(list(row))\n",
    "        \n",
    "    world_map[state_pos[0]][state_pos[1]] = \"X\"\n",
    "    \n",
    "    new_map = []\n",
    "    for row in world_map:\n",
    "        string = \"\"\n",
    "        for ele in row:\n",
    "            string += ele\n",
    "        new_map.append(string)\n",
    "                \n",
    "    return new_map"
   ]
  },
  {
   "cell_type": "code",
   "execution_count": 7,
   "metadata": {},
   "outputs": [
    {
     "data": {
      "text/plain": [
       "array([[4.40803515e-05, 4.39107855e-03, 4.06461874e-05, 4.06669095e-05],\n",
       "       [4.03967506e-05, 4.00910533e-05, 2.66905698e-05, 1.43512302e-05],\n",
       "       [1.30978208e-05, 5.70795992e-05, 7.48783212e-05, 9.05043092e-05],\n",
       "       [5.65749520e-05, 7.38228703e-06, 1.14858796e-05, 2.89229161e-05],\n",
       "       [4.18790101e-05, 1.84255618e-02, 1.93517396e-05, 4.10007553e-05],\n",
       "       [3.06525882e-05, 2.14175091e-05, 2.06074701e-05, 7.10915507e-05],\n",
       "       [1.10024654e-05, 8.42097084e-04, 2.94411863e-05, 4.61070559e-05],\n",
       "       [9.66623140e-05, 3.15145754e-05, 6.40110212e-05, 7.08949743e-05],\n",
       "       [2.98697831e-05, 4.07063165e-05, 6.55484989e-02, 4.10526548e-05],\n",
       "       [6.89133183e-05, 4.30267057e-05, 1.91813373e-01, 6.90786778e-05],\n",
       "       [1.46280426e-04, 4.45897417e-01, 7.40361170e-05, 6.92308294e-05],\n",
       "       [2.96752509e-05, 4.20845884e-05, 8.97933885e-05, 1.70667459e-05],\n",
       "       [8.17326033e-05, 5.21196582e-05, 3.40291996e-05, 4.76432688e-05],\n",
       "       [2.29719747e-05, 4.73916143e-05, 8.91272618e-04, 4.70113549e-05],\n",
       "       [8.84820603e-05, 3.31460188e-05, 7.89408891e-01, 9.03842959e-05],\n",
       "       [9.87005126e-05, 5.93426942e-05, 6.83756823e-05, 4.07750732e-05]])"
      ]
     },
     "execution_count": 7,
     "metadata": {},
     "output_type": "execute_result"
    }
   ],
   "source": [
    "import pickle\n",
    "# with open(\"pygame_custom_qtable.pkl\", \"wb\") as f:\n",
    "    # pickle.dump(agent.q_table, f)\n",
    "with open(\"pygame_custom_qtable.pkl\", \"rb\") as f:\n",
    "    loaded_table = pickle.load(f)\n",
    "loaded_table"
   ]
  },
  {
   "cell_type": "code",
   "execution_count": 8,
   "metadata": {},
   "outputs": [],
   "source": [
    "def game_loop(surface):\n",
    "    \n",
    "    total_reward = 0\n",
    "    rounds = 5\n",
    "    num_eps = 100\n",
    "\n",
    "    for i in range(1, rounds + 1):\n",
    "\n",
    "        for _ in range(1, num_eps + 1):\n",
    "\n",
    "            state = env.reset()\n",
    "            done = False\n",
    "            while not done:\n",
    "\n",
    "                for event in pygame.event.get():\n",
    "                    if event.type == pygame.QUIT:\n",
    "                        pygame.quit()\n",
    "                        sys.exit()\n",
    "                    if event.type == pygame.KEYDOWN:\n",
    "                        if event.key == pygame.K_ESCAPE:\n",
    "                            pygame.quit()\n",
    "                            sys.exit()\n",
    "                action = np.argmax(loaded_table[state, :])\n",
    "                new_state, reward, done, _ = env.step(action)\n",
    "                state = new_state\n",
    "                total_reward += reward\n",
    "\n",
    "                print(\"Round\", i)\n",
    "                print(\"s:\", state, \"a:\", action)\n",
    "                env.render()\n",
    "                time.sleep(0.05)\n",
    "                clear_output(wait=True)\n",
    "\n",
    "                draw_map(surface, read_map(return_coordinates(state)))\n",
    "                draw_grid(surface)\n",
    "                pygame.display.update()\n",
    "\n",
    "        total_reward = 0"
   ]
  },
  {
   "cell_type": "code",
   "execution_count": 10,
   "metadata": {},
   "outputs": [
    {
     "ename": "SystemExit",
     "evalue": "",
     "output_type": "error",
     "traceback": [
      "An exception has occurred, use %tb to see the full traceback.\n",
      "\u001b[1;31mSystemExit\u001b[0m\n"
     ]
    }
   ],
   "source": [
    "world_map = custom_map\n",
    "surface = initialize_game()\n",
    "game_loop(surface)"
   ]
  },
  {
   "cell_type": "code",
   "execution_count": null,
   "metadata": {},
   "outputs": [],
   "source": []
  },
  {
   "cell_type": "code",
   "execution_count": null,
   "metadata": {},
   "outputs": [],
   "source": []
  },
  {
   "cell_type": "code",
   "execution_count": null,
   "metadata": {},
   "outputs": [],
   "source": []
  },
  {
   "cell_type": "code",
   "execution_count": null,
   "metadata": {},
   "outputs": [],
   "source": []
  }
 ],
 "metadata": {
  "interpreter": {
   "hash": "33dc6d49505b4536b6a128d9d7c879e1fa44477ad44947bbbe73093067fe6393"
  },
  "kernelspec": {
   "display_name": "Python 3.9.2 64-bit",
   "language": "python",
   "name": "python3"
  },
  "language_info": {
   "codemirror_mode": {
    "name": "ipython",
    "version": 3
   },
   "file_extension": ".py",
   "mimetype": "text/x-python",
   "name": "python",
   "nbconvert_exporter": "python",
   "pygments_lexer": "ipython3",
   "version": "3.9.2"
  },
  "orig_nbformat": 4
 },
 "nbformat": 4,
 "nbformat_minor": 2
}
