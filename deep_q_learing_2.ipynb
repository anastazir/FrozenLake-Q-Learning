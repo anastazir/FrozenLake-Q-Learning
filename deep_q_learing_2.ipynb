{
 "cells": [
  {
   "cell_type": "code",
   "execution_count": 18,
   "metadata": {},
   "outputs": [],
   "source": [
    "import gym\n",
    "import numpy as np\n",
    "import random\n",
    "import matplotlib.pyplot as plt\n",
    "import matplotlib\n",
    "import warnings\n",
    "import os\n",
    "import time\n",
    "from IPython.display import clear_output\n",
    "from tensorflow.keras.optimizers import Adam\n",
    "from keras.layers.core import Dense\n",
    "from keras.models import Sequential\n",
    "from collections import deque\n",
    "warnings.filterwarnings(\"ignore\")\n",
    "os.environ['TF_CPP_MIN_LOG_LEVEL'] = '3'"
   ]
  },
  {
   "cell_type": "code",
   "execution_count": 19,
   "metadata": {},
   "outputs": [
    {
     "name": "stdout",
     "output_type": "stream",
     "text": [
      "25 4\n"
     ]
    }
   ],
   "source": [
    "custom_map = [\n",
    "    'SFFHF',\n",
    "    'HFHFF',\n",
    "    'HFFFH',\n",
    "    'HHHFH',\n",
    "    'HFFFG'\n",
    "]\n",
    "\n",
    "env = gym.make(\"FrozenLake-v1\", desc=custom_map, is_slippery=False)\n",
    "train_episodes=4000\n",
    "test_episodes=100\n",
    "max_steps=300\n",
    "state_size  = env.observation_space.n\n",
    "action_size = env.action_space.n\n",
    "batch_size=32\n",
    "\n",
    "print(state_size, action_size)"
   ]
  },
  {
   "cell_type": "code",
   "execution_count": 20,
   "metadata": {},
   "outputs": [],
   "source": [
    "class Agent:\n",
    "    def __init__(self, state_size, action_size):\n",
    "        self.memory = deque(maxlen=2500)\n",
    "        self.learning_rate=0.001\n",
    "        self.epsilon=1\n",
    "        self.max_eps=1\n",
    "        self.min_eps=0.01\n",
    "        self.eps_decay = 0.001/3\n",
    "        self.gamma=0.9\n",
    "        self.state_size= state_size\n",
    "        self.action_size= action_size\n",
    "        self.epsilon_lst=[]\n",
    "        self.model = self.buildmodel()\n",
    "\n",
    "    def buildmodel(self):\n",
    "        model=Sequential()\n",
    "        model.add(Dense(32, input_dim=self.state_size, activation='relu'))\n",
    "        model.add(Dense(32, activation='relu'))\n",
    "        model.add(Dense(self.action_size, activation='linear'))\n",
    "        model.compile(loss='mse', optimizer=Adam(lr=self.learning_rate))\n",
    "        print(model.summary())\n",
    "        return model\n",
    "\n",
    "    def add_memory(self, new_state, reward, done, state, action):\n",
    "        self.memory.append((new_state, reward, done, state, action))\n",
    "\n",
    "    def action(self, state):\n",
    "        if np.random.rand() > self.epsilon:\n",
    "            return np.random.randint(0,4)\n",
    "        return np.argmax(self.model.predict(state))\n",
    "\n",
    "    def pred(self, state):\n",
    "        return np.argmax(self.model.predict(state))\n",
    "\n",
    "    def replay(self,batch_size):\n",
    "        minibatch=random.sample(self.memory, batch_size)\n",
    "        for new_state, reward, done, state, action in minibatch:\n",
    "            target= reward\n",
    "            if not done:\n",
    "                target=reward + self.gamma* np.amax(self.model.predict(new_state))\n",
    "            target_f= self.model.predict(state)\n",
    "            target_f[0][action]= target\n",
    "            self.model.fit(state, target_f, epochs=1, verbose=0)\n",
    "\n",
    "        if self.epsilon > self.min_eps:\n",
    "            self.epsilon=(self.max_eps - self.min_eps) * np.exp(-self.eps_decay*episode) + self.min_eps\n",
    "\n",
    "        self.epsilon_lst.append(self.epsilon)\n"
   ]
  },
  {
   "cell_type": "code",
   "execution_count": 21,
   "metadata": {},
   "outputs": [
    {
     "name": "stdout",
     "output_type": "stream",
     "text": [
      "Model: \"sequential_2\"\n",
      "_________________________________________________________________\n",
      "Layer (type)                 Output Shape              Param #   \n",
      "=================================================================\n",
      "dense_6 (Dense)              (None, 32)                832       \n",
      "_________________________________________________________________\n",
      "dense_7 (Dense)              (None, 32)                1056      \n",
      "_________________________________________________________________\n",
      "dense_8 (Dense)              (None, 4)                 132       \n",
      "=================================================================\n",
      "Total params: 2,020\n",
      "Trainable params: 2,020\n",
      "Non-trainable params: 0\n",
      "_________________________________________________________________\n",
      "None\n"
     ]
    }
   ],
   "source": [
    "agent=Agent(state_size, action_size)"
   ]
  },
  {
   "cell_type": "code",
   "execution_count": null,
   "metadata": {},
   "outputs": [],
   "source": [
    "reward_lst=[]\n",
    "for episode in range(train_episodes):\n",
    "    state= env.reset()\n",
    "    state_arr=np.zeros(state_size)\n",
    "    state_arr[state] = 1\n",
    "    state= np.reshape(state_arr, [1, state_size])\n",
    "    reward = 0\n",
    "    done = False\n",
    "    for t in range(max_steps):\n",
    "        # env.render()\n",
    "        # time.sleep(0.05)\n",
    "        # clear_output(wait=True)\n",
    "        action = agent.action(state)\n",
    "        new_state, reward, done, _ = env.step(action)\n",
    "        new_state_arr = np.zeros(state_size)\n",
    "        new_state_arr[new_state] = 1\n",
    "        new_state = np.reshape(new_state_arr, [1, state_size])\n",
    "        agent.add_memory(new_state, reward, done, state, action)\n",
    "        state= new_state\n",
    "\n",
    "        if done:\n",
    "            break\n",
    "\n",
    "    reward_lst.append(reward)\n",
    "\n",
    "    if len(agent.memory)> batch_size:\n",
    "        agent.replay(batch_size)\n",
    "\n",
    "print(' Train mean % score= ', round(100*np.mean(reward_lst),1))"
   ]
  },
  {
   "cell_type": "code",
   "execution_count": null,
   "metadata": {},
   "outputs": [],
   "source": [
    "# test\n",
    "test_wins=[]\n",
    "for episode in range(test_episodes):\n",
    "    state = env.reset()\n",
    "    state_arr=np.zeros(state_size)\n",
    "    state_arr[state] = 1\n",
    "    state= np.reshape(state_arr, [1, state_size])\n",
    "    done = False\n",
    "    reward=0\n",
    "    state_lst = []\n",
    "    state_lst.append(state)\n",
    "    print('******* EPISODE ',episode, ' *******')\n",
    "\n",
    "    for step in range(max_steps):\n",
    "        action = agent.pred(state)\n",
    "        new_state, reward, done, info = env.step(action)\n",
    "        new_state_arr = np.zeros(state_size)\n",
    "        new_state_arr[new_state] = 1\n",
    "        new_state = np.reshape(new_state_arr, [1, state_size])\n",
    "        state = new_state\n",
    "        state_lst.append(state)\n",
    "        if done:\n",
    "            print(reward)\n",
    "            # env.render()\n",
    "            break\n",
    "\n",
    "    test_wins.append(reward)\n",
    "env.close()\n",
    "\n",
    "print(' Test mean % score= ', int(100*np.mean(test_wins)))"
   ]
  }
 ],
 "metadata": {
  "interpreter": {
   "hash": "33dc6d49505b4536b6a128d9d7c879e1fa44477ad44947bbbe73093067fe6393"
  },
  "kernelspec": {
   "display_name": "Python 3.9.2 64-bit",
   "language": "python",
   "name": "python3"
  },
  "language_info": {
   "codemirror_mode": {
    "name": "ipython",
    "version": 3
   },
   "file_extension": ".py",
   "mimetype": "text/x-python",
   "name": "python",
   "nbconvert_exporter": "python",
   "pygments_lexer": "ipython3",
   "version": "3.9.2"
  },
  "orig_nbformat": 4
 },
 "nbformat": 4,
 "nbformat_minor": 2
}
