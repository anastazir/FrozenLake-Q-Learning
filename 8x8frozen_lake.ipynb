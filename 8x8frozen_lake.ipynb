{
 "cells": [
  {
   "cell_type": "code",
   "execution_count": 46,
   "metadata": {},
   "outputs": [],
   "source": [
    "# Imports\n",
    "import gym\n",
    "import random\n",
    "import numpy as np\n",
    "import time\n",
    "from gym.envs.registration import register\n",
    "from IPython.display import clear_output"
   ]
  },
  {
   "cell_type": "code",
   "execution_count": 47,
   "metadata": {},
   "outputs": [
    {
     "name": "stdout",
     "output_type": "stream",
     "text": [
      "Observation space: Discrete(64)\n",
      "Action space: Discrete(4)\n"
     ]
    },
    {
     "name": "stderr",
     "output_type": "stream",
     "text": [
      "C:\\Users\\DELL\\AppData\\Local\\Programs\\Python\\Python39\\lib\\site-packages\\gym\\envs\\registration.py:216: UserWarning: \u001b[33mWARN: Overriding environment FrozenLakeNoSlip-v0\u001b[0m\n",
      "  logger.warn(\"Overriding environment {}\".format(id))\n"
     ]
    },
    {
     "data": {
      "text/plain": [
       "Discrete(4)"
      ]
     },
     "execution_count": 47,
     "metadata": {},
     "output_type": "execute_result"
    }
   ],
   "source": [
    "env_name = \"FrozenLakeNoSlip-v0\"\n",
    "custom_map = [\"SFFFFFFF\", \n",
    "              \"FFFFFFFF\", \n",
    "              \"FFFHFFFF\",\n",
    "              \"FFFFFHFF\", \n",
    "              \"FFFHFFFF\", \n",
    "              \"FHHFFFHF\", \n",
    "              \"FHFFHFHF\", \n",
    "              \"FFFHFFFG\"]\n",
    "\n",
    "try:\n",
    "    register(\n",
    "        id='FrozenLakeNoSlip-v0',\n",
    "        entry_point='gym.envs.toy_text:FrozenLakeEnv',\n",
    "        kwargs={'is_slippery':False},\n",
    "        max_episode_steps=400,\n",
    "        reward_threshold=0.78, # optimum = .8196\n",
    "    )\n",
    "except:\n",
    "    pass\n",
    "\n",
    "env = gym.make(env_name, desc = custom_map)\n",
    "print(\"Observation space:\", env.observation_space)\n",
    "print(\"Action space:\", env.action_space)\n",
    "env.action_space"
   ]
  },
  {
   "cell_type": "code",
   "execution_count": 48,
   "metadata": {},
   "outputs": [],
   "source": [
    "import pygame, sys\n",
    "\n",
    "SCREEN_WIDTH = 500\n",
    "SCREEN_HEIGHT = 500\n",
    "\n",
    "NUM_BLOCKS_WIDE = 8\n",
    "NUM_BLOCKS_HIGH = 8\n",
    "BLOCK_HEIGHT = round(SCREEN_HEIGHT/NUM_BLOCKS_HIGH)\n",
    "BLOCK_WIDTH = round(SCREEN_WIDTH/NUM_BLOCKS_WIDE)\n",
    "\n",
    "BLACK = (0, 0, 0)\n",
    "START = (153, 184, 152) # color is white\n",
    "GOAL = (0,201,87) # color is green\n",
    "HOLE = (139,105,105) # color is brown\n",
    "FROZEN = (24,116,205) # color is blue\n",
    "PINK= (255,20,147) # color is pink\n",
    "\n",
    "TITLE = \"8x8 Forzen Lake\"\n",
    "\n",
    "def return_coordinates(state):\n",
    "    count = 0\n",
    "    matrix = []\n",
    "    \n",
    "    for _ in range(len(custom_map)):\n",
    "        row = []\n",
    "        for _ in range(len(custom_map[0])):\n",
    "            row.append(count)\n",
    "            count+=1\n",
    "        matrix.append(row)\n",
    "    \n",
    "    for i in range(len(custom_map)):\n",
    "        for j in range(len(custom_map[0])):\n",
    "            if matrix[i][j] == state:\n",
    "                pos = (i, j)\n",
    "    \n",
    "    return pos"
   ]
  },
  {
   "cell_type": "code",
   "execution_count": 49,
   "metadata": {},
   "outputs": [],
   "source": [
    "def get_tile_color(tile):\n",
    "    if tile == \"S\":\n",
    "        color = START\n",
    "    elif tile == \"G\":\n",
    "        color = GOAL\n",
    "    elif tile == \"H\":\n",
    "        color = HOLE\n",
    "    elif tile == \"F\":\n",
    "        color = FROZEN\n",
    "    else:\n",
    "        color = PINK\n",
    "    return color"
   ]
  },
  {
   "cell_type": "code",
   "execution_count": 50,
   "metadata": {},
   "outputs": [],
   "source": [
    "def draw_map(surface, map_tiles):\n",
    "    for j, tile in enumerate(map_tiles):\n",
    "        for i, tile_contents in enumerate(tile):\n",
    "            myrect = pygame.Rect(i * BLOCK_WIDTH, j * BLOCK_HEIGHT, BLOCK_WIDTH, BLOCK_HEIGHT)\n",
    "            pygame.draw.rect(surface, get_tile_color(tile_contents), myrect)\n",
    "            if get_tile_color(tile_contents) == PINK:\n",
    "                helicopter = pygame.image.load('body.png')\n",
    "                helicopter = pygame.transform.scale(helicopter, (BLOCK_WIDTH, BLOCK_WIDTH))\n",
    "                surface.blit(helicopter, (i * BLOCK_WIDTH, j * BLOCK_HEIGHT))\n",
    "            if get_tile_color(tile_contents) == HOLE:\n",
    "                hole = pygame.image.load('hole1.jpg')\n",
    "                hole = pygame.transform.scale(hole, (BLOCK_WIDTH, BLOCK_WIDTH))\n",
    "                surface.blit(hole, (i * BLOCK_WIDTH, j * BLOCK_HEIGHT))\n",
    "            if get_tile_color(tile_contents) == GOAL:\n",
    "                hole = pygame.image.load('green_flag.png')\n",
    "                hole = pygame.transform.scale(hole, (BLOCK_WIDTH, BLOCK_WIDTH))\n",
    "                surface.blit(hole, (i * BLOCK_WIDTH, j * BLOCK_HEIGHT))\n",
    "            if get_tile_color(tile_contents) == FROZEN:\n",
    "                hole = pygame.image.load('frozen_lake.jpg')\n",
    "                hole = pygame.transform.scale(hole, (BLOCK_WIDTH, BLOCK_WIDTH))\n",
    "                surface.blit(hole, (i * BLOCK_WIDTH, j * BLOCK_HEIGHT))\n",
    "            if get_tile_color(tile_contents) == START   :\n",
    "                hole = pygame.image.load('start.jpg')\n",
    "                hole = pygame.transform.scale(hole, (BLOCK_WIDTH, BLOCK_WIDTH))\n",
    "                surface.blit(hole, (i * BLOCK_WIDTH, j * BLOCK_HEIGHT))\n",
    "\n",
    "def draw_grid(surface):\n",
    "    for i in range(NUM_BLOCKS_WIDE):\n",
    "        new_height = round(i * BLOCK_HEIGHT)\n",
    "        new_width = round(i * BLOCK_WIDTH)\n",
    "        pygame.draw.line(surface, BLACK, (0, new_height), (SCREEN_WIDTH, new_height), 2)\n",
    "        pygame.draw.line(surface, BLACK, (new_width, 0), (new_width, SCREEN_HEIGHT), 2)\n"
   ]
  },
  {
   "cell_type": "code",
   "execution_count": 51,
   "metadata": {},
   "outputs": [],
   "source": [
    "def initialize_game():\n",
    "    pygame.init()\n",
    "    surface = pygame.display.set_mode((SCREEN_WIDTH, SCREEN_HEIGHT))\n",
    "    pygame.display.set_caption(TITLE)\n",
    "    surface.fill(BLACK)\n",
    "    return surface\n",
    "\n",
    "def read_map(state_pos):\n",
    "    world_map = custom_map\n",
    "    world_map = []\n",
    "    for row in custom_map:\n",
    "        world_map.append(list(row))\n",
    "        \n",
    "    world_map[state_pos[0]][state_pos[1]] = \"X\"\n",
    "    \n",
    "    new_map = []\n",
    "    for row in world_map:\n",
    "        string = \"\"\n",
    "        for ele in row:\n",
    "            string += ele\n",
    "        new_map.append(string)\n",
    "    return new_map"
   ]
  },
  {
   "cell_type": "code",
   "execution_count": 52,
   "metadata": {},
   "outputs": [],
   "source": [
    "import pickle\n",
    "# with open(\"8x8_part_3frozen_lake_qtable.pkl\", \"wb\") as f:\n",
    "    # pickle.dump(agent.q_table, f)\n",
    "with open(\"8x8_part_3frozen_lake_qtable.pkl\", \"rb\") as f:\n",
    "    loaded_table = pickle.load(f)\n",
    "# loaded_table"
   ]
  },
  {
   "cell_type": "code",
   "execution_count": 53,
   "metadata": {},
   "outputs": [],
   "source": [
    "def game_loop(surface):\n",
    "\n",
    "    total_reward = 0\n",
    "    rounds = 5\n",
    "    num_eps = 400\n",
    "\n",
    "    for i in range(1, rounds + 1):\n",
    "\n",
    "        for j in range(1, num_eps + 1):\n",
    "                    \n",
    "            state = env.reset()\n",
    "            done = False\n",
    "            while not done:\n",
    "                for event in pygame.event.get():\n",
    "                    if event.type == pygame.QUIT:\n",
    "                        pygame.quit()\n",
    "                        sys.exit()\n",
    "                    if event.type == pygame.KEYDOWN:\n",
    "                        if event.key == pygame.K_ESCAPE:\n",
    "                            pygame.quit()\n",
    "                            sys.exit()\n",
    "                action = np.argmax(loaded_table[state, :])\n",
    "                new_state, reward, done, _ = env.step(action)\n",
    "                state = new_state\n",
    "                total_reward += reward\n",
    "\n",
    "                print(\"j\", j)\n",
    "                print(\"s:\", state, \"a:\", action)\n",
    "                env.render()\n",
    "                time.sleep(0.05)\n",
    "                clear_output(wait=True)\n",
    "\n",
    "                draw_map(surface, read_map(return_coordinates(state)))\n",
    "                draw_grid(surface)\n",
    "                pygame.display.update()\n",
    "\n",
    "        total_reward = 0"
   ]
  },
  {
   "cell_type": "code",
   "execution_count": 54,
   "metadata": {},
   "outputs": [
    {
     "ename": "SystemExit",
     "evalue": "",
     "output_type": "error",
     "traceback": [
      "An exception has occurred, use %tb to see the full traceback.\n",
      "\u001b[1;31mSystemExit\u001b[0m\n"
     ]
    },
    {
     "name": "stderr",
     "output_type": "stream",
     "text": [
      "C:\\Users\\DELL\\AppData\\Roaming\\Python\\Python39\\site-packages\\IPython\\core\\interactiveshell.py:3445: UserWarning: To exit: use 'exit', 'quit', or Ctrl-D.\n",
      "  warn(\"To exit: use 'exit', 'quit', or Ctrl-D.\", stacklevel=1)\n"
     ]
    }
   ],
   "source": [
    "world_map = custom_map\n",
    "surface = initialize_game()\n",
    "game_loop(surface)"
   ]
  }
 ],
 "metadata": {
  "interpreter": {
   "hash": "33dc6d49505b4536b6a128d9d7c879e1fa44477ad44947bbbe73093067fe6393"
  },
  "kernelspec": {
   "display_name": "Python 3.9.2 64-bit",
   "language": "python",
   "name": "python3"
  },
  "language_info": {
   "codemirror_mode": {
    "name": "ipython",
    "version": 3
   },
   "file_extension": ".py",
   "mimetype": "text/x-python",
   "name": "python",
   "nbconvert_exporter": "python",
   "pygments_lexer": "ipython3",
   "version": "3.9.2"
  },
  "orig_nbformat": 4
 },
 "nbformat": 4,
 "nbformat_minor": 2
}
